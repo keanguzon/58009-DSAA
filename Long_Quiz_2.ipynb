{
  "nbformat": 4,
  "nbformat_minor": 0,
  "metadata": {
    "colab": {
      "provenance": [],
      "authorship_tag": "ABX9TyMTgNAx1j+m8uXLFbrPpgI2",
      "include_colab_link": true
    },
    "kernelspec": {
      "name": "python3",
      "display_name": "Python 3"
    },
    "language_info": {
      "name": "python"
    }
  },
  "cells": [
    {
      "cell_type": "markdown",
      "metadata": {
        "id": "view-in-github",
        "colab_type": "text"
      },
      "source": [
        "<a href=\"https://colab.research.google.com/github/keanguzon/58009-DSAA/blob/main/Long_Quiz_2.ipynb\" target=\"_parent\"><img src=\"https://colab.research.google.com/assets/colab-badge.svg\" alt=\"Open In Colab\"/></a>"
      ]
    },
    {
      "cell_type": "code",
      "execution_count": 2,
      "metadata": {
        "colab": {
          "base_uri": "https://localhost:8080/"
        },
        "id": "nlZEZ_L88GIi",
        "outputId": "1faa3d3f-144d-4ed4-d88e-745fc56c2bce"
      },
      "outputs": [
        {
          "output_type": "stream",
          "name": "stdout",
          "text": [
            "Edges: [{'I', 'H'}, {'J', 'H'}, {'K', 'H'}, {'E', 'I'}, {'F', 'I'}, {'J', 'E'}, {'J', 'F'}, {'E', 'M'}, {'E', 'K'}, {'F', 'K'}, {'P', 'F'}]\n",
            "Vertices: ['H', 'I', 'J', 'E', 'K', 'F', 'M', 'P']\n"
          ]
        }
      ],
      "source": [
        "class graph:\n",
        "    def __init__(self, gdict=None):\n",
        "        if gdict is None:\n",
        "            gdict = {}\n",
        "        self.gdict = gdict\n",
        "\n",
        "    def edges(self):\n",
        "        edgename = []\n",
        "        for vertex in self.gdict:\n",
        "            for nextvertex in self.gdict[vertex]:\n",
        "                if {nextvertex, vertex} not in edgename:\n",
        "                    edgename.append({vertex, nextvertex})\n",
        "        return edgename\n",
        "\n",
        "    def vertices(self):\n",
        "        return list(self.gdict.keys())\n",
        "\n",
        "graph_elements = {\n",
        "    'H': ['I', 'J', 'K'],\n",
        "    'I': ['E', 'F', 'H'],\n",
        "    'J': ['E', 'F', 'H'],\n",
        "    'E': ['I', 'M', 'K', 'J'],\n",
        "    'K': ['E', 'H', 'F'],\n",
        "    'F': ['J', 'K', 'P', 'I'],\n",
        "    'M': ['E'],\n",
        "    'P': ['F']\n",
        "}\n",
        "\n",
        "g = graph(graph_elements)\n",
        "print(\"Edges:\", g.edges())\n",
        "print(\"Vertices:\", g.vertices())\n"
      ]
    }
  ]
}