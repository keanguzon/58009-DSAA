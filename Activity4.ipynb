{
  "nbformat": 4,
  "nbformat_minor": 0,
  "metadata": {
    "colab": {
      "provenance": [],
      "authorship_tag": "ABX9TyM/QSt1a+mKq6PLBFGDloYN",
      "include_colab_link": true
    },
    "kernelspec": {
      "name": "python3",
      "display_name": "Python 3"
    },
    "language_info": {
      "name": "python"
    }
  },
  "cells": [
    {
      "cell_type": "markdown",
      "metadata": {
        "id": "view-in-github",
        "colab_type": "text"
      },
      "source": [
        "<a href=\"https://colab.research.google.com/github/keanguzon/58009-DSAA/blob/main/Activity4.ipynb\" target=\"_parent\"><img src=\"https://colab.research.google.com/assets/colab-badge.svg\" alt=\"Open In Colab\"/></a>"
      ]
    },
    {
      "cell_type": "code",
      "execution_count": 1,
      "metadata": {
        "colab": {
          "base_uri": "https://localhost:8080/"
        },
        "id": "llAth8Ld7vRA",
        "outputId": "edea108f-a454-4e77-ea06-67a5f99606ed"
      },
      "outputs": [
        {
          "output_type": "stream",
          "name": "stdout",
          "text": [
            "Enter how many food you will order: 3\n",
            "Enter Order #1: Chicken\n",
            "Enter Order #2: Eggroll\n",
            "Enter Order #3: Pizza\n",
            "\n",
            "Current Orders in Queue:\n",
            "['Chicken', 'Eggroll', 'Pizza']\n",
            "\n",
            "Order Processed:\n",
            "Chicken\n",
            "\n",
            "Orders Currently Processing:\n",
            "['Eggroll', 'Pizza']\n"
          ]
        }
      ],
      "source": [
        "queue = []\n",
        "num_orders = int(input(\"Enter how many food you will order: \"))\n",
        "\n",
        "if num_orders > 10:\n",
        "    print(\"Error: You can order a maximum of 10 items.\")\n",
        "    exit ()\n",
        "\n",
        "else:\n",
        "  for i in range(num_orders):\n",
        "    order = input(f\"Enter Order #{i + 1}: \")\n",
        "    queue.append(order)\n",
        "\n",
        "print(\"\\nCurrent Orders in Queue:\")\n",
        "print(queue)\n",
        "\n",
        "print(\"\\nOrder Processed:\")\n",
        "print(queue.pop(0))\n",
        "\n",
        "print(\"\\nOrders Currently Processing:\")\n",
        "print(queue)\n"
      ]
    }
  ]
}