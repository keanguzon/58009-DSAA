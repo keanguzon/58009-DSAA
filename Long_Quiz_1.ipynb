{
  "nbformat": 4,
  "nbformat_minor": 0,
  "metadata": {
    "colab": {
      "provenance": [],
      "authorship_tag": "ABX9TyOvsDi8kmUHbpk0Eoi4BVgF",
      "include_colab_link": true
    },
    "kernelspec": {
      "name": "python3",
      "display_name": "Python 3"
    },
    "language_info": {
      "name": "python"
    }
  },
  "cells": [
    {
      "cell_type": "markdown",
      "metadata": {
        "id": "view-in-github",
        "colab_type": "text"
      },
      "source": [
        "<a href=\"https://colab.research.google.com/github/keanguzon/58009-DSAA/blob/main/Long_Quiz_1.ipynb\" target=\"_parent\"><img src=\"https://colab.research.google.com/assets/colab-badge.svg\" alt=\"Open In Colab\"/></a>"
      ]
    },
    {
      "cell_type": "code",
      "execution_count": 63,
      "metadata": {
        "colab": {
          "base_uri": "https://localhost:8080/"
        },
        "id": "O2GzKRzgzoYx",
        "outputId": "3bcd55b1-1ec4-44dc-c96d-ef9608a36e90"
      },
      "outputs": [
        {
          "output_type": "stream",
          "name": "stdout",
          "text": [
            "n\n",
            "o\n",
            "z\n",
            "u\n",
            "G\n",
            " \n",
            "z\n",
            "i\n",
            "u\n",
            "o\n",
            "L\n",
            " \n",
            "n\n",
            "a\n",
            "e\n",
            "K\n",
            "['n', 'o', 'z', 'u', 'G', ' ', 'z', 'i', 'u', 'o', 'L', ' ', 'n', 'a', 'e', 'K']\n"
          ]
        }
      ],
      "source": [
        "name = \"Kean Louiz Guzon\"\n",
        "\n",
        "reversed_name_list = []\n",
        "\n",
        "reversed_name = name[::-1] #slicing technique I used is from the web\n",
        "for char in reversed_name:\n",
        "    print(char)\n",
        "    reversed_name_list.append(char)\n",
        "\n",
        "print(reversed_name_list)"
      ]
    },
    {
      "cell_type": "code",
      "source": [
        "#The Code was just a modified version of my Activity2\n",
        "class Node:\n",
        "    def __init__(self, data):\n",
        "        self.data = data\n",
        "        self.next = None\n",
        "\n",
        "class LinkedList:\n",
        "    def __init__(self):\n",
        "        self.head = None\n",
        "        self.tail = None\n",
        "\n",
        "    def append(self, data):\n",
        "        new_node = Node(data)\n",
        "        if self.head is None:\n",
        "            self.head = new_node\n",
        "            self.tail = new_node\n",
        "        else:\n",
        "            self.tail.next = new_node\n",
        "            self.tail = new_node\n",
        "\n",
        "    def is_prime(self, num):\n",
        "        if num <= 1:\n",
        "            return False\n",
        "        for i in range(2, int(num**0.5) + 1):\n",
        "            if num % i == 0:\n",
        "                return False\n",
        "        return True\n",
        "\n",
        "    def print_list(self):\n",
        "        temp = self.head\n",
        "        while temp:\n",
        "            number = temp.data\n",
        "            if self.is_prime(number):\n",
        "                print(f\"{number} = prime\")\n",
        "            else:\n",
        "                print(f\"{number} = composite\")\n",
        "            temp = temp.next\n",
        "\n",
        "if __name__ == '__main__':\n",
        "    llist = LinkedList()\n",
        "    for num in range(1, 11):\n",
        "        llist.append(num)\n",
        "\n",
        "    llist.print_list()\n"
      ],
      "metadata": {
        "colab": {
          "base_uri": "https://localhost:8080/"
        },
        "id": "fQ_rPRD9ASDR",
        "outputId": "de217f20-8444-4770-cb46-281b3623eb67"
      },
      "execution_count": 82,
      "outputs": [
        {
          "output_type": "stream",
          "name": "stdout",
          "text": [
            "1 = composite\n",
            "2 = prime\n",
            "3 = prime\n",
            "4 = composite\n",
            "5 = prime\n",
            "6 = composite\n",
            "7 = prime\n",
            "8 = composite\n",
            "9 = composite\n",
            "10 = composite\n"
          ]
        }
      ]
    }
  ]
}