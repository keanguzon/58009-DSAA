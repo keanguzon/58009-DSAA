{
  "nbformat": 4,
  "nbformat_minor": 0,
  "metadata": {
    "colab": {
      "provenance": [],
      "authorship_tag": "ABX9TyPQUIUAHatGiIWnkfY0EMNp",
      "include_colab_link": true
    },
    "kernelspec": {
      "name": "python3",
      "display_name": "Python 3"
    },
    "language_info": {
      "name": "python"
    }
  },
  "cells": [
    {
      "cell_type": "markdown",
      "metadata": {
        "id": "view-in-github",
        "colab_type": "text"
      },
      "source": [
        "<a href=\"https://colab.research.google.com/github/keanguzon/58009-DSAA/blob/main/midterm_exam.ipynb\" target=\"_parent\"><img src=\"https://colab.research.google.com/assets/colab-badge.svg\" alt=\"Open In Colab\"/></a>"
      ]
    },
    {
      "cell_type": "code",
      "execution_count": 24,
      "metadata": {
        "colab": {
          "base_uri": "https://localhost:8080/"
        },
        "id": "3zy0wnjdFXJc",
        "outputId": "01426fe8-f5b0-4b50-eb75-cdbaa5b00cdf"
      },
      "outputs": [
        {
          "output_type": "stream",
          "name": "stdout",
          "text": [
            "Edges:\n",
            "[{'B', 'A'}, {'A', 11}, {'B', 'F'}, {'B', 'E'}, {'B', 'C'}, {'B', '11'}, {'B', '90'}, {'B', '85'}, {'B', '1'}, {'C', 'E'}, {'F', 'C'}, {'D', 'C'}, {'I', 'C'}, {'M', 'C'}, {'1', 'C'}, {'21', 'C'}, {'C', '42'}, {'14', 'C'}, {'8', 'C'}, {'22', 'C'}, {'D', 'K'}, {'D', 'L'}, {'14', 'D'}, {'D', '6'}, {'D', '13'}, {'N', 'E'}, {'42', 'E'}, {'85', 'E'}, {'35', 'E'}, {'I', 'F'}, {'G', 'F'}, {'9', 'F'}, {'90', 'F'}, {'21', 'F'}, {'F', '10'}, {'I', 'G'}, {'G', 'J'}, {'G', '10'}, {'G', '5'}, {'16', 'G'}, {'I', 'J'}, {'I', 'K'}, {'I', '5'}, {'I', '27'}, {'I', '99'}, {'I', '22'}, {'I', '9'}, {'K', 'J'}, {'27', 'J'}, {'16', 'J'}, {'32', 'J'}, {'K', '99'}, {'K', '13'}, {'K', '32'}, {'P', 'L'}, {'M', 'L'}, {'L', '6'}, {'51', 'L'}, {'60', 'L'}, {'P', 'M'}, {'M', 'O'}, {'M', 'N'}, {'40', 'M'}, {'M', '60'}, {'M', '8'}, {'M', '1'}, {'17', 'M'}, {'N', 'O'}, {'N', '50'}, {'35', 'N'}, {'1', 'N'}, {'P', 'O'}, {'17', 'O'}, {'O', '50'}, {'52', 'O'}, {'P', '52'}, {'P', '40'}, {'P', '51'}]\n",
            "Vertices:\n",
            "['A', 'B', 'C', 'D', 'E', 'F', 'G', 'I', 'J', 'K', 'L', 'M', 'N', 'O', 'P']\n"
          ]
        }
      ],
      "source": [
        "class Graph:\n",
        "    def __init__(self, gdict=None):\n",
        "        if gdict is None:\n",
        "            gdict = {}\n",
        "        self.gdict = gdict\n",
        "\n",
        "    def edges(self):\n",
        "        return self.find_edges()\n",
        "\n",
        "    def getVertices(self):\n",
        "        return list(self.gdict.keys())\n",
        "\n",
        "    def find_edges(self):\n",
        "        edge_names = []\n",
        "        for vertex in self.gdict:\n",
        "            for next_vertex in self.gdict[vertex]:\n",
        "                if {next_vertex, vertex} not in edge_names:\n",
        "                    edge_names.append({vertex, next_vertex})\n",
        "        return edge_names\n",
        "\n",
        "\n",
        "graph_elements = {\"A\": [\"B\",11],\n",
        "                  \"B\": [\"A\",\"F\",\"E\",\"C\",\"11\",\"90\",\"85\",\"1\"],\n",
        "                  \"C\": [\"B\",\"E\",\"F\",\"D\",\"I\",\"M\", \"1\",\"21\",\"42\",\"14\",\"8\",\"22\"],\n",
        "                  \"D\": [\"C\",\"K\",\"L\",\"14\",\"6\",\"13\"],\n",
        "                  \"E\": [\"C\",\"B\",\"N\",\"42\",\"85\",\"35\"],\n",
        "                  \"F\": [\"B\",\"C\",\"I\",\"G\",\"9\",\"90\",\"21\",\"10\"],\n",
        "                  \"G\": [\"I\",\"F\",\"J\",\"10\",\"5\",\"16\"],\n",
        "                  \"I\": [\"G\",\"J\",\"F\",\"C\",\"K\",\"5\",\"27\",\"99\",\"22\",\"9\"],\n",
        "                  \"J\": [\"I\",\"G\",\"K\",\"27\",\"16\",\"32\"],\n",
        "                  \"K\": [\"I\", \"J\", \"D\",\"99\",\"13\",\"32\"],\n",
        "                  \"L\": [\"P\",\"M\",\"D\",\"6\",\"51\",\"60\"],\n",
        "                  \"M\": [\"C\",\"L\",\"P\",\"O\",\"N\",\"40\",\"60\",\"8\",\"1\",\"17\"],\n",
        "                  \"N\": [\"O\",\"E\",\"M\",\"50\",\"35\",\"1\"],\n",
        "                  \"O\": [\"N\",\"M\",\"P\",\"17\",\"50\",\"52\"],\n",
        "                  \"P\": [\"O\", \"M\",\"L\",\"52\",\"40\",\"51\"]}\n",
        "\n",
        "g = Graph(graph_elements)\n",
        "print (\"Edges:\")\n",
        "print(g.edges())\n",
        "print (\"Vertices:\")\n",
        "print(g.getVertices())"
      ]
    }
  ]
}