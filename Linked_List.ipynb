{
  "nbformat": 4,
  "nbformat_minor": 0,
  "metadata": {
    "colab": {
      "provenance": [],
      "authorship_tag": "ABX9TyPTFD+UwIbxRmutl/gqkXoK",
      "include_colab_link": true
    },
    "kernelspec": {
      "name": "python3",
      "display_name": "Python 3"
    },
    "language_info": {
      "name": "python"
    }
  },
  "cells": [
    {
      "cell_type": "markdown",
      "metadata": {
        "id": "view-in-github",
        "colab_type": "text"
      },
      "source": [
        "<a href=\"https://colab.research.google.com/github/keanguzon/58009-DSAA/blob/main/Linked_List.ipynb\" target=\"_parent\"><img src=\"https://colab.research.google.com/assets/colab-badge.svg\" alt=\"Open In Colab\"/></a>"
      ]
    },
    {
      "cell_type": "markdown",
      "source": [
        "Example 1"
      ],
      "metadata": {
        "id": "kShexKEKCD8q"
      }
    },
    {
      "cell_type": "code",
      "source": [
        "import array\n",
        "\n",
        "array.typecodes #get all typecodes\n",
        "a = array.array('i', [1,2,3,4,5,6]) #initializing array a\n",
        "b = array.array('f', [1.5,2.5,3.5,4.5,5.5,6.5]) #initializing array b\n",
        "a.typecode #getting the typecode of a\n",
        "b.typecode #getting the typecode of b"
      ],
      "metadata": {
        "id": "mfmHKR9ihW1g",
        "colab": {
          "base_uri": "https://localhost:8080/",
          "height": 35
        },
        "outputId": "68ab9f0c-fb50-42df-aaf8-3a90987b2d1a"
      },
      "execution_count": null,
      "outputs": [
        {
          "output_type": "execute_result",
          "data": {
            "text/plain": [
              "'f'"
            ],
            "application/vnd.google.colaboratory.intrinsic+json": {
              "type": "string"
            }
          },
          "metadata": {},
          "execution_count": 3
        }
      ]
    },
    {
      "cell_type": "markdown",
      "source": [
        "Example 2"
      ],
      "metadata": {
        "id": "g81oj_JyB45j"
      }
    },
    {
      "cell_type": "code",
      "source": [
        "import array\n",
        "array.typecodes\n",
        "a = array.array('i',[1,2,3,4,5,6])\n",
        "b = str('f')\n",
        "\n",
        "a.typecode\n",
        "print(a)\n",
        "a = array.array(b, [1,2,3,4,5,6])\n",
        "\n",
        "a.typecode\n",
        "print(a)"
      ],
      "metadata": {
        "colab": {
          "base_uri": "https://localhost:8080/"
        },
        "id": "Ozy946C6B8JL",
        "outputId": "9bd7e404-fbf7-4974-bf74-4e75341cfc34"
      },
      "execution_count": 10,
      "outputs": [
        {
          "output_type": "stream",
          "name": "stdout",
          "text": [
            "array('i', [1, 2, 3, 4, 5, 6])\n",
            "array('f', [1.0, 2.0, 3.0, 4.0, 5.0, 6.0])\n"
          ]
        }
      ]
    },
    {
      "cell_type": "markdown",
      "source": [
        "Example 3"
      ],
      "metadata": {
        "id": "lth0vrNyCN4k"
      }
    },
    {
      "cell_type": "code",
      "source": [
        "from array import array # importing array from array module\n",
        "\n",
        "a= array('i',[4,5,6,7]) # initializing array\n",
        "a.insert(1,2) # inserting element: 2 at index: 1\n",
        "a # Printing array a\n",
        "array('i', [4, 2, 5, 6, 7])\n",
        "a.insert(-1,0) # insert element: 0 at index: -1\n",
        "a\n",
        "a.insert(10, -1) # insert element: -1 at index: 10, this is out of range\n",
        "a\n",
        "array('i', [4, 2, 5, 6, 0, 7, -1])"
      ],
      "metadata": {
        "colab": {
          "base_uri": "https://localhost:8080/"
        },
        "id": "6BhTLCSY0tvO",
        "outputId": "be6216a1-b00d-4703-b3b2-5ab87cb3d421"
      },
      "execution_count": null,
      "outputs": [
        {
          "output_type": "execute_result",
          "data": {
            "text/plain": [
              "array('i', [4, 2, 5, 6, 0, 7, -1])"
            ]
          },
          "metadata": {},
          "execution_count": 2
        }
      ]
    },
    {
      "cell_type": "markdown",
      "source": [
        "Example 4 (Single Linked List)"
      ],
      "metadata": {
        "id": "vwjPreFXCROb"
      }
    },
    {
      "cell_type": "code",
      "source": [
        "# A simple Python program to introduce alinked list\n",
        "# Node class\n",
        "class Node:\n",
        "\t# Function to initialize the node object\n",
        "\tdef __init__(self, data):\n",
        "\t\tself.data = data # Assign data\n",
        "\t\tself.next = None # Initialize next as null\n",
        "# Linked List class contains a Node object\n",
        "class LinkedList:\n",
        "\n",
        "    def __init__(self):\n",
        "        self.head = None\n",
        "\n",
        "\n",
        "    def printlist(self):\n",
        "        temp = self.head\n",
        "        while temp:\n",
        "            print(temp.data)\n",
        "            temp = temp.next\n",
        "\n",
        "\n",
        "if __name__ == '__main__':\n",
        "\n",
        "    llist = LinkedList()\n",
        "\n",
        "\n",
        "    llist.head = Node(1)\n",
        "    second = Node(2)\n",
        "    third = Node(3)\n",
        "\n",
        "    llist.head.next = second\n",
        "    second.next = third\n",
        "\n",
        "    llist.printlist()\n"
      ],
      "metadata": {
        "colab": {
          "base_uri": "https://localhost:8080/"
        },
        "id": "VoqhYRkR06U9",
        "outputId": "1b2281af-c7ed-4635-9fcb-aec94f624edd"
      },
      "execution_count": 30,
      "outputs": [
        {
          "output_type": "stream",
          "name": "stdout",
          "text": [
            "1\n",
            "2\n",
            "3\n"
          ]
        }
      ]
    },
    {
      "cell_type": "markdown",
      "source": [
        "Example 5 (Doubly Linked List)"
      ],
      "metadata": {
        "id": "73gw5thdCW1D"
      }
    },
    {
      "cell_type": "code",
      "source": [
        "# Node class\n",
        "class Node:\n",
        "    # Function to initialize the node object\n",
        "    def __init__(self, data):\n",
        "        self.data = data  # Assign data\n",
        "        self.next = None  # Initialize next as null\n",
        "\n",
        "\n",
        "# Linked List class contains a Node object\n",
        "class LinkedList:\n",
        "\n",
        "    def __init__(self):\n",
        "        self.head = None\n",
        "\n",
        "    def printlist(self):\n",
        "        temp = self.head\n",
        "        while temp:\n",
        "            print(temp.data)\n",
        "            temp = temp.next\n",
        "\n",
        "    def printReverseList(self, current):\n",
        "        if current is None:\n",
        "            return\n",
        "        self.printReverseList(current.next)\n",
        "        print(current.data)\n",
        "\n",
        "\n",
        "if __name__ == '__main__':\n",
        "    llist = LinkedList()\n",
        "\n",
        "    llist.head = Node(1)\n",
        "    second = Node(2)\n",
        "    third = Node(3)\n",
        "\n",
        "    llist.head.next = second\n",
        "    second.next = third\n",
        "\n",
        "    llist.printlist()\n",
        "    llist.printReverseList(llist.head)\n"
      ],
      "metadata": {
        "colab": {
          "base_uri": "https://localhost:8080/"
        },
        "id": "yctlCZ4wEeuY",
        "outputId": "b2c526a7-8cf3-4e80-f6cd-840ea8d61297"
      },
      "execution_count": 49,
      "outputs": [
        {
          "output_type": "stream",
          "name": "stdout",
          "text": [
            "1\n",
            "2\n",
            "3\n",
            "3\n",
            "2\n",
            "1\n"
          ]
        }
      ]
    }
  ]
}