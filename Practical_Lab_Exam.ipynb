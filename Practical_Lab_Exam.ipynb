{
  "nbformat": 4,
  "nbformat_minor": 0,
  "metadata": {
    "colab": {
      "provenance": [],
      "authorship_tag": "ABX9TyOE775LI4XGR95Apyk/rTm9",
      "include_colab_link": true
    },
    "kernelspec": {
      "name": "python3",
      "display_name": "Python 3"
    },
    "language_info": {
      "name": "python"
    }
  },
  "cells": [
    {
      "cell_type": "markdown",
      "metadata": {
        "id": "view-in-github",
        "colab_type": "text"
      },
      "source": [
        "<a href=\"https://colab.research.google.com/github/keanguzon/58009-DSAA/blob/main/Practical_Lab_Exam.ipynb\" target=\"_parent\"><img src=\"https://colab.research.google.com/assets/colab-badge.svg\" alt=\"Open In Colab\"/></a>"
      ]
    },
    {
      "cell_type": "code",
      "source": [
        "test_scores = [26, 49, 98, 87, 62, 75]\n",
        "odd_scores = []\n",
        "\n",
        "for score in test_scores:\n",
        "  if score % 2 != 0:\n",
        "    odd_scores.append(score)\n",
        "\n",
        "odd_sum = sum(odd_scores)\n",
        "print(\"Total of odd test scores:\", odd_sum)"
      ],
      "metadata": {
        "colab": {
          "base_uri": "https://localhost:8080/"
        },
        "id": "6t1mhVA6X-kf",
        "outputId": "cea4f20c-7c68-4e81-fbc8-689aad2c73fc"
      },
      "execution_count": 21,
      "outputs": [
        {
          "output_type": "stream",
          "name": "stdout",
          "text": [
            "Total of odd test scores: 211\n"
          ]
        }
      ]
    }
  ]
}