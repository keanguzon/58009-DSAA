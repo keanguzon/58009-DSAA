{
  "nbformat": 4,
  "nbformat_minor": 0,
  "metadata": {
    "colab": {
      "provenance": [],
      "authorship_tag": "ABX9TyNRsMtbEiOo2OSoLFDglnhO",
      "include_colab_link": true
    },
    "kernelspec": {
      "name": "python3",
      "display_name": "Python 3"
    },
    "language_info": {
      "name": "python"
    }
  },
  "cells": [
    {
      "cell_type": "markdown",
      "metadata": {
        "id": "view-in-github",
        "colab_type": "text"
      },
      "source": [
        "<a href=\"https://colab.research.google.com/github/keanguzon/58009-DSAA/blob/main/Activity7.ipynb\" target=\"_parent\"><img src=\"https://colab.research.google.com/assets/colab-badge.svg\" alt=\"Open In Colab\"/></a>"
      ]
    },
    {
      "cell_type": "code",
      "execution_count": 13,
      "metadata": {
        "colab": {
          "base_uri": "https://localhost:8080/"
        },
        "id": "657hF3VaA0DU",
        "outputId": "db1ba44f-289d-48f9-cd45-b0e389b13325"
      },
      "outputs": [
        {
          "output_type": "stream",
          "name": "stdout",
          "text": [
            "[{1, 2}, {1, 3}, {1, 5}, {1, 6}, {2, 3}, {2, 5}, {2, 6}, {3, 4}, {3, 5}, {2, 4}]\n"
          ]
        }
      ],
      "source": [
        "class Graph:\n",
        "    def __init__(self, gdict=None):\n",
        "        if gdict is None:\n",
        "            gdict = {}\n",
        "        self.gdict = gdict\n",
        "\n",
        "    def edges(self):\n",
        "        return self.find_edges()\n",
        "\n",
        "\n",
        "    def find_edges(self):\n",
        "        edge_names = []\n",
        "        for vertex in self.gdict:\n",
        "            for next_vertex in self.gdict[vertex]:\n",
        "                if {next_vertex, vertex} not in edge_names:\n",
        "                    edge_names.append({vertex, next_vertex})\n",
        "        return edge_names\n",
        "\n",
        "\n",
        "graph_elements = {1: [2, 3, 5, 6],\n",
        "                  2: [1, 3, 5, 6],\n",
        "                  3: [1, 2, 4, 5],\n",
        "                  4: [2, 3],\n",
        "                  5: [1, 2, 3],\n",
        "                  6: [1, 2]}\n",
        "g = Graph(graph_elements)\n",
        "print(g.edges())"
      ]
    },
    {
      "cell_type": "code",
      "source": [
        "#Display Graph Vertices\n",
        "\n",
        "class Graph:\n",
        "    def __init__(self, gdict=None):\n",
        "        if gdict is None:\n",
        "            gdict = {}\n",
        "        self.gdict = gdict\n",
        "\n",
        "    # Get the keys of the dictionary\n",
        "    def getVertices(self):\n",
        "        return list(self.gdict.keys())\n",
        "\n",
        "# Create the dictionary with graph elements\n",
        "graph_elements = {1: [2, 3, 5, 6],\n",
        "                  2: [1, 3, 5, 6],\n",
        "                  3: [1, 2, 4, 5],\n",
        "                  4: [2, 3],\n",
        "                  5: [1, 2, 3],\n",
        "                  6: [1, 2]}\n",
        "\n",
        "g = Graph(graph_elements)\n",
        "print(g.getVertices())\n"
      ],
      "metadata": {
        "colab": {
          "base_uri": "https://localhost:8080/"
        },
        "id": "gnWHX4j8MyPn",
        "outputId": "e1c83a9a-2d2f-46b6-8ac5-099cb708bf6b"
      },
      "execution_count": 14,
      "outputs": [
        {
          "output_type": "stream",
          "name": "stdout",
          "text": [
            "[1, 2, 3, 4, 5, 6]\n"
          ]
        }
      ]
    }
  ]
}